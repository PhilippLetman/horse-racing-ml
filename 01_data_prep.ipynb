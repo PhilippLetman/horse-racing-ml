{
 "cells": [
  {
   "cell_type": "code",
   "execution_count": 2,
   "id": "bd652d7d-ef2c-4167-84f8-cfef6d36dfad",
   "metadata": {},
   "outputs": [
    {
     "name": "stdout",
     "output_type": "stream",
     "text": [
      "The libraries have been successfully installed\n"
     ]
    }
   ],
   "source": [
    "'''\n",
    "This project is for developing a machine learning model to predict horse race outcomes.  \n",
    "\n",
    "Goals:\n",
    "- Store race data in relational format (Races, Horses, Jockeys, Trainers, Results).\n",
    "- Perform feature engineering (form, strike rates, etc.).\n",
    "- Train baseline and advanced models (logistic regression, XGBoost, LightGBM).\n",
    "- Evaluate with accuracy, log loss, and betting strategy simulations.\n",
    "\n",
    "Data was collected using a modified version of the rpscrape tool by joenano. \n",
    "I adapted it for my workflow, but the rpscrape source code is not included in this repository. \n",
    "It is run locally to produce CSV outputs that are then cleaned and analysed here.\n",
    "'''\n",
    "try:\n",
    "    import pandas as pd\n",
    "    import numpy as np\n",
    "    import matplotlib.pyplot as plt\n",
    "    from sklearn.model_selection import train_test_split\n",
    "    from sklearn.linear_model import LinearRegression\n",
    "    from pathlib import Path\n",
    "    import time\n",
    "    import subprocess\n",
    "    from datetime import date\n",
    "    import pyarrow as pa, pyarrow.parquet as pq\n",
    "    import sys\n",
    "    \n",
    "    import xgboost as xgb\n",
    "    import lightgbm as lgb\n",
    "    import optuna\n",
    "    print('The libraries have been successfully installed')\n",
    "except ImportError as e:\n",
    "    print(f\"❌ Missing library: {e.name}\")"
   ]
  },
  {
   "cell_type": "code",
   "execution_count": 3,
   "id": "60591844-0e86-4887-9ef6-0a54db249cb7",
   "metadata": {},
   "outputs": [
    {
     "data": {
      "text/plain": [
       "'\\nBulk scraping of the data from all the years 2007-2025 and also pre-2007\\n'"
      ]
     },
     "execution_count": 3,
     "metadata": {},
     "output_type": "execute_result"
    }
   ],
   "source": [
    "'''\n",
    "Bulk scraping of the data from all the years 2007-2025 and also pre-2007\n",
    "'''"
   ]
  },
  {
   "cell_type": "code",
   "execution_count": 4,
   "id": "d2cc2f45-73ad-4b8d-bf5d-2fac087646f6",
   "metadata": {},
   "outputs": [
    {
     "name": "stdout",
     "output_type": "stream",
     "text": [
      "Running: /opt/miniconda3/envs/horse-racing/bin/python rpscrape1.py -r gb -y 2007 -t flat in /Users/philippletman/rpscrape/scripts\n",
      "Saved gb_flat_2007.csv\n",
      "Running: /opt/miniconda3/envs/horse-racing/bin/python rpscrape1.py -r gb -y 2008 -t flat in /Users/philippletman/rpscrape/scripts\n",
      "Saved gb_flat_2008.csv\n",
      "Running: /opt/miniconda3/envs/horse-racing/bin/python rpscrape1.py -r gb -y 2009 -t flat in /Users/philippletman/rpscrape/scripts\n",
      "Saved gb_flat_2009.csv\n",
      "Running: /opt/miniconda3/envs/horse-racing/bin/python rpscrape1.py -r gb -y 2010 -t flat in /Users/philippletman/rpscrape/scripts\n",
      "Saved gb_flat_2010.csv\n",
      "Running: /opt/miniconda3/envs/horse-racing/bin/python rpscrape1.py -r gb -y 2011 -t flat in /Users/philippletman/rpscrape/scripts\n",
      "Saved gb_flat_2011.csv\n",
      "Running: /opt/miniconda3/envs/horse-racing/bin/python rpscrape1.py -r gb -y 2012 -t flat in /Users/philippletman/rpscrape/scripts\n",
      "Saved gb_flat_2012.csv\n",
      "Running: /opt/miniconda3/envs/horse-racing/bin/python rpscrape1.py -r gb -y 2013 -t flat in /Users/philippletman/rpscrape/scripts\n",
      "Saved gb_flat_2013.csv\n",
      "Running: /opt/miniconda3/envs/horse-racing/bin/python rpscrape1.py -r gb -y 2014 -t flat in /Users/philippletman/rpscrape/scripts\n",
      "Saved gb_flat_2014.csv\n",
      "Running: /opt/miniconda3/envs/horse-racing/bin/python rpscrape1.py -r gb -y 2015 -t flat in /Users/philippletman/rpscrape/scripts\n",
      "Saved gb_flat_2015.csv\n",
      "Running: /opt/miniconda3/envs/horse-racing/bin/python rpscrape1.py -r gb -y 2016 -t flat in /Users/philippletman/rpscrape/scripts\n",
      "Saved gb_flat_2016.csv\n",
      "Running: /opt/miniconda3/envs/horse-racing/bin/python rpscrape1.py -r gb -y 2017 -t flat in /Users/philippletman/rpscrape/scripts\n",
      "Saved gb_flat_2017.csv\n",
      "Running: /opt/miniconda3/envs/horse-racing/bin/python rpscrape1.py -r gb -y 2018 -t flat in /Users/philippletman/rpscrape/scripts\n",
      "Saved gb_flat_2018.csv\n",
      "Running: /opt/miniconda3/envs/horse-racing/bin/python rpscrape1.py -r gb -y 2019 -t flat in /Users/philippletman/rpscrape/scripts\n",
      "Saved gb_flat_2019.csv\n",
      "Running: /opt/miniconda3/envs/horse-racing/bin/python rpscrape1.py -r gb -y 2020 -t flat in /Users/philippletman/rpscrape/scripts\n",
      "Saved gb_flat_2020.csv\n",
      "Running: /opt/miniconda3/envs/horse-racing/bin/python rpscrape1.py -r gb -y 2021 -t flat in /Users/philippletman/rpscrape/scripts\n",
      "Saved gb_flat_2021.csv\n",
      "Running: /opt/miniconda3/envs/horse-racing/bin/python rpscrape1.py -r gb -y 2022 -t flat in /Users/philippletman/rpscrape/scripts\n",
      "Saved gb_flat_2022.csv\n",
      "Running: /opt/miniconda3/envs/horse-racing/bin/python rpscrape1.py -r gb -y 2023 -t flat in /Users/philippletman/rpscrape/scripts\n",
      "Saved gb_flat_2023.csv\n",
      "Running: /opt/miniconda3/envs/horse-racing/bin/python rpscrape1.py -r gb -y 2024 -t flat in /Users/philippletman/rpscrape/scripts\n",
      "Saved gb_flat_2024.csv\n",
      "Running: /opt/miniconda3/envs/horse-racing/bin/python rpscrape1.py -r gb -y 2025 -t flat in /Users/philippletman/rpscrape/scripts\n",
      "Saved gb_flat_2025.csv\n"
     ]
    }
   ],
   "source": [
    "REGION = \"gb\"\n",
    "SURFACE = \"flat\"\n",
    "YEARS = range(2007,2026)\n",
    "REPO = Path(os.environ.get(\"SCRAPE_DIR\", str(Path.home() / \"scrape_data\")))\n",
    "WORKDIR = REPO / \"scripts\"\n",
    "SCRIPT = WORKDIR / \"rpscrape1.py\"\n",
    "OUTDIR = Path(\"external_data\") / \"dates\" / REGION\n",
    "OUTDIR.mkdir(parents=True, exist_ok=True)\n",
    "PY = sys.executable\n",
    "\n",
    "def scrape_year(y: int):\n",
    "    start = date(y, 1, 1)\n",
    "    end = date(y, 12, 31)\n",
    "    daterange = f\"{start:%Y/%m/%d}-{end:%Y/%m/%d}\"\n",
    "\n",
    "    outfile = OUTDIR / f\"{REGION}_{SURFACE}_{y}.csv\"\n",
    "    logfile = OUTDIR / f\"{REGION}_{SURFACE}_{y}.log\"\n",
    "    if outfile.exists():\n",
    "        print(f\"Skip {outfile.name}\")\n",
    "        return\n",
    "\n",
    "    cmd = [PY, SCRIPT.name, \"-r\", REGION, \"-y\", str(y), \"-t\", SURFACE]\n",
    "    print(\"Running:\",\" \".join(cmd), \"in\", WORKDIR)\n",
    "    with outfile.open('w', encoding ='utf-8') as f_out, logfile.open('w', encoding = 'utf-8') as f_log:\n",
    "        try:\n",
    "            subprocess.run(cmd, cwd=str(WORKDIR), stdout=f_out, stderr=f_log, text=True, check=True)\n",
    "            print(f\"Saved {outfile.name}\")\n",
    "        except subprocess.CalledProcessError:\n",
    "            print(f\"Failed {y}. See {logfile.name}\")\n",
    "for year in YEARS:\n",
    "    scrape_year(year)\n",
    "    time.sleep(2)        "
   ]
  },
  {
   "cell_type": "code",
   "execution_count": null,
   "id": "7c5b69f3-cc96-4e64-be5f-7d4d63db3fea",
   "metadata": {},
   "outputs": [],
   "source": []
  }
 ],
 "metadata": {
  "kernelspec": {
   "display_name": "Horse Racing",
   "language": "python",
   "name": "horse-racing"
  },
  "language_info": {
   "codemirror_mode": {
    "name": "ipython",
    "version": 3
   },
   "file_extension": ".py",
   "mimetype": "text/x-python",
   "name": "python",
   "nbconvert_exporter": "python",
   "pygments_lexer": "ipython3",
   "version": "3.13.7"
  }
 },
 "nbformat": 4,
 "nbformat_minor": 5
}
